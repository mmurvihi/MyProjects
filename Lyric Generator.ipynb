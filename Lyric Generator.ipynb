{
 "cells": [
  {
   "cell_type": "markdown",
   "metadata": {},
   "source": [
    "# Song Lyric Generator"
   ]
  },
  {
   "cell_type": "markdown",
   "metadata": {},
   "source": [
    "**Margot Murvihill**"
   ]
  },
  {
   "cell_type": "code",
   "execution_count": 1,
   "metadata": {},
   "outputs": [],
   "source": [
    "import requests\n",
    "import time\n",
    "import pickle\n",
    "import random\n",
    "from bs4 import BeautifulSoup"
   ]
  },
  {
   "cell_type": "markdown",
   "metadata": {},
   "source": [
    "The website below has links to Anderson Paak's songs. This cell scrapes the links to each song from his main page and puts them into a list called links."
   ]
  },
  {
   "cell_type": "code",
   "execution_count": 2,
   "metadata": {},
   "outputs": [],
   "source": [
    "links = []\n",
    "#Change URL to get lyrics from any artist\n",
    "resp = requests.get(\"http://www.songlyrics.com/anderson-paak-lyrics/\")\n",
    "soup = BeautifulSoup(resp.content, \"html.parser\")\n",
    "table = soup.find(\"table\", {\"class\" : \"tracklist\"})\n",
    "for item in table.find_all(\"tr\"):\n",
    "    links.append(item.find(\"a\")[\"href\"])\n",
    "    "
   ]
  },
  {
   "cell_type": "markdown",
   "metadata": {},
   "source": [
    "Going through each link and get the lyrics for each song and add them to a list called lyrics."
   ]
  },
  {
   "cell_type": "code",
   "execution_count": 3,
   "metadata": {},
   "outputs": [],
   "source": [
    "lyrics = []\n",
    "\n",
    "import time\n",
    "\n",
    "for link in links:\n",
    "    resp = requests.get(link)\n",
    "    soup = BeautifulSoup(resp.content, \"html.parser\")\n",
    "    lyrics.append(soup.find(\"p\", {\"id\" : \"songLyricsDiv\"}).text)\n",
    "    #Adding a time delay between requests\n",
    "    time.sleep(0.5)"
   ]
  },
  {
   "cell_type": "code",
   "execution_count": 4,
   "metadata": {},
   "outputs": [],
   "source": [
    "# Cleaning\n",
    "for i in range(len(lyrics)):\n",
    "    song = lyrics[i]\n",
    "    song = song.lower()\n",
    "    song = song.replace(\"\\n\\n\", \"\\n\")\n",
    "    song = song.replace(\"\\n\", \" <N> \")\n",
    "    song = song.replace(\"?\", \" \")\n",
    "    song = song.replace(\",\", \"\")\n",
    "    song = song.replace(\"-\", \" \")\n",
    "    song = song.replace(\"'\", \"\")\n",
    "    song = \"<START> \" + song + \" <END>\"\n",
    "    lyrics[i] = song\n",
    "\n",
    "for i in range(len(lyrics)):\n",
    "    song = lyrics[i]\n",
    "    song = lyrics[i].split()\n",
    "    lyrics[i] = song   "
   ]
  },
  {
   "cell_type": "code",
   "execution_count": 5,
   "metadata": {},
   "outputs": [],
   "source": [
    "#Pickle holds our data\n",
    "pickle.dump(lyrics, open(\"lyrics.pkl\", \"wb\"))"
   ]
  },
  {
   "cell_type": "markdown",
   "metadata": {},
   "source": [
    "Now we will create a list of every word in Anderson Paak's songs, and for each word we will have another list of all the words that followed that word in his song. "
   ]
  },
  {
   "cell_type": "code",
   "execution_count": 6,
   "metadata": {},
   "outputs": [],
   "source": [
    "def train_markov_chain(lyrics):\n",
    "    \"\"\"\n",
    "    Args:\n",
    "      - lyrics: a list of strings, where each string represents\n",
    "                the lyrics of one song by an artist.\n",
    "    \n",
    "    Returns:\n",
    "      A dict that maps a single word (\"unigram\") to a list of\n",
    "      words that follow that word, representing the Markov\n",
    "      chain trained on the lyrics.\n",
    "    \"\"\"\n",
    "    chain = {\"<START>\": []}\n",
    "    for lyric in lyrics:\n",
    "        for i in range(len(lyric)):\n",
    "            word = lyric[i]\n",
    "            if chain.get(word)== None:\n",
    "                if (i+1) < len(lyric):\n",
    "                    chain[word] = [lyric[i+1]]\n",
    "            else:\n",
    "                if (i+1) < len(lyric):\n",
    "                    chain[word].append(lyric[i+1])\n",
    "        \n",
    "        \n",
    "    return chain"
   ]
  },
  {
   "cell_type": "code",
   "execution_count": 7,
   "metadata": {},
   "outputs": [
    {
     "name": "stdout",
     "output_type": "stream",
     "text": [
      "['we', 'my', 'if', 'im', 'we', 'she', 'ugh', 'all', 'i', 'dogtown', 'you', 'my', 'why', 'you', 'we', 'we', 'we', 'we', 'we', 'we', 'na', 'look', 'we', 'i', 'i', 'venice', 'produced', 'feat.', 'feat.', 'produced', '(feat.', '(feat.', '[verse', '(feat.', 'produced', 'produced', 'produced', 'produced', 'produced', 'na', 'i', '\"such', 'my', 'my', 'you', 'feat.', 'feat.', '[instrumental:]', '(feat.', 'feat.']\n",
      "['(until', 'strawberry', '(i', 'how', '(forever', 'if', '(fruit', 'say', 'spent', 'threw', 'with', 'im', 'went', '(oh', 'yeah', 'i', 'and', '(nothing', 'but', 'see']\n"
     ]
    }
   ],
   "source": [
    "# Load the pickled lyrics object.\n",
    "lyrics = pickle.load(open(\"lyrics.pkl\", \"rb\"))\n",
    "\n",
    "# Creating Markov Chain\n",
    "chain = train_markov_chain(lyrics)\n",
    "\n",
    "# Words that tend to start a song (i.e., what words follow the <START> tag)\n",
    "print(chain[\"<START>\"])\n",
    "\n",
    "# Words that tend to begin a line (i.e., what words follow the line break tag)\n",
    "print(chain[\"<N>\"][:20])"
   ]
  },
  {
   "cell_type": "markdown",
   "metadata": {},
   "source": [
    "Using the Markov chain we made above, we will essentially create a path through the song. We will randomly select a word that typically starts the song, then randomly select a word that follows that word, and randomly select a word that follows that word, and so on until we reach the end."
   ]
  },
  {
   "cell_type": "code",
   "execution_count": 8,
   "metadata": {},
   "outputs": [],
   "source": [
    "def generate_new_lyrics(chain):\n",
    "    \"\"\"\n",
    "    Args:\n",
    "      - chain: a dict representing the Markov chain,\n",
    "               such as one generated by generate_new_lyrics()\n",
    "    \n",
    "    Returns:\n",
    "      A string representing the randomly generated song.\n",
    "    \"\"\"\n",
    "    \n",
    "    # a list for storing the generated words\n",
    "    words = []\n",
    "    # generate the first word\n",
    "    word = random.choice(chain[\"<START>\"])\n",
    "    words.append(word)\n",
    "    while word != \"<END>\":\n",
    "        word = random.choice(chain[word])\n",
    "        words.append(word)\n",
    "    \n",
    "    \n",
    "    # join the words together into a string with line breaks\n",
    "    lyrics = \" \".join(words[:-1])\n",
    "    return \"\\n\".join(lyrics.split(\"<N>\"))"
   ]
  },
  {
   "cell_type": "code",
   "execution_count": 9,
   "metadata": {},
   "outputs": [
    {
     "name": "stdout",
     "output_type": "stream",
     "text": [
      "venice california \n",
      " (momma can you got tropical haze go \n",
      " \n",
      " (nothing short of this high baby \n",
      " \"come down \n",
      " plenty of a cold you \n",
      " wait \n",
      " matte black \n",
      " i wanna make it \n",
      " its no no patience \n",
      " said \"get what you carry me get this whole world was walking down \n",
      " met her so until we do \n",
      " and mumbling bout to the feelin that *exhales* get deported \n",
      " (until its paid for it carry me \n",
      " but the bank statements \n",
      " ima ride \n",
      " \n",
      " i miss that shit change but you ever really cant beat it must live on the kissin attention the only message i cant ooh yeah) \n",
      " half an important factor for it go and the element of chronic smoke if you \n",
      " i wanted to show them taxes \n",
      " to do \n",
      " dance then its too floored to tell uncle sam barsh & anderson .paak] \n",
      " break \n",
      " i tried my patience \n",
      " you carry me on and shit \n",
      " you carry you and all the tuggin \n",
      " knees cant pull it feel me ) \n",
      " did you feel me i call you carry me what you jump in this bitchs stomach \n",
      " yeah \n",
      " i said \"go and pour) \n",
      " and we have my first into the fightin and me follow through\n"
     ]
    }
   ],
   "source": [
    "#Our generated Anderson Paak song\n",
    "print(generate_new_lyrics(chain))"
   ]
  },
  {
   "cell_type": "markdown",
   "metadata": {},
   "source": [
    "We will now train another Markov chain using bigrams. Essentially the same logic, except we are finding the words that follow every pair of words instead of a single word."
   ]
  },
  {
   "cell_type": "code",
   "execution_count": 10,
   "metadata": {},
   "outputs": [],
   "source": [
    "for song in lyrics:\n",
    "    song.insert(0, None)\n",
    "    song.append(None)"
   ]
  },
  {
   "cell_type": "code",
   "execution_count": 11,
   "metadata": {},
   "outputs": [],
   "source": [
    "def train_markov_chain(lyrics):\n",
    "    \"\"\"\n",
    "    Args:\n",
    "      - lyrics: a list of strings, where each string represents\n",
    "                the lyrics of one song by an artist.\n",
    "    \n",
    "    Returns:\n",
    "      A dict that maps a tuple of 2 words (\"bigram\") to a list of\n",
    "      words that follow that bigram, representing the Markov\n",
    "      chain trained on the lyrics.\n",
    "    \"\"\"\n",
    "    chain = {}\n",
    "    for lyric in lyrics:\n",
    "        for i in range(len(lyric)):\n",
    "            if (i+2) < len(lyric):\n",
    "                word = (lyric[i], lyric[i+1])\n",
    "                if chain.get(word) == None:\n",
    "                    chain[word] = [lyric[i+2]]\n",
    "                else:\n",
    "                    chain[word].append(lyric[i+2])\n",
    "        \n",
    "\n",
    "    return chain"
   ]
  },
  {
   "cell_type": "code",
   "execution_count": 12,
   "metadata": {},
   "outputs": [
    {
     "name": "stdout",
     "output_type": "stream",
     "text": [
      "['we', 'my', 'if', 'im', 'we', 'she', 'ugh', 'all', 'i', 'dogtown', 'you', 'my', 'why', 'you', 'we', 'we', 'we', 'we', 'we', 'we', 'na', 'look', 'we', 'i', 'i', 'venice', 'produced', 'feat.', 'feat.', 'produced', '(feat.', '(feat.', '[verse', '(feat.', 'produced', 'produced', 'produced', 'produced', 'produced', 'na', 'i', '\"such', 'my', 'my', 'you', 'feat.', 'feat.', '[instrumental:]', '(feat.', 'feat.']\n"
     ]
    }
   ],
   "source": [
    "# Creating Markov Chain with bigrams\n",
    "chain = train_markov_chain(lyrics)\n",
    "\n",
    "# Words that tend to start a song (i.e., what words follow the <START> tag)\n",
    "print(chain[(None, \"<START>\")])"
   ]
  },
  {
   "cell_type": "code",
   "execution_count": 13,
   "metadata": {},
   "outputs": [],
   "source": [
    "def generate_new_lyrics(chain):\n",
    "    \"\"\"\n",
    "    Args:\n",
    "      - chain: a dict representing the Markov chain,\n",
    "               such as one generated by generate_new_lyrics()\n",
    "    \n",
    "    Returns:\n",
    "      A string representing the randomly generated song.\n",
    "    \"\"\"\n",
    "    \n",
    "    # a list for storing the generated words\n",
    "    words = []\n",
    "    # generate the first word\n",
    "    tuple = (None, \"<START>\")\n",
    "    word = random.choice(chain[tuple])\n",
    "    words.append(word)\n",
    "    while tuple[1] != \"<END>\":\n",
    "        tuple = (tuple[1], random.choice(chain[tuple])) \n",
    "        words.append(tuple[1])\n",
    "    \n",
    "    \n",
    "    # join the words together into a string with line breaks\n",
    "    lyrics = \" \".join(words[:-1])\n",
    "    return \"\\n\".join(lyrics.split(\"<N>\"))"
   ]
  },
  {
   "cell_type": "markdown",
   "metadata": {},
   "source": [
    "Generated Anderson Paak song with bigrams. Do you think it's better?"
   ]
  },
  {
   "cell_type": "code",
   "execution_count": 14,
   "metadata": {},
   "outputs": [
    {
     "name": "stdout",
     "output_type": "stream",
     "text": [
      "(feat. we do \n",
      " a bit more time \n",
      " where all these animals all this shaman i got needs \n",
      " and put it all but not in my body spinning around in the hand (look) \n",
      " one in the 5th and pulled up in the fall i caught a glimpse of my fortune meeting \n",
      " when i drive \n",
      " i got that good conversation \n",
      " im lifting it up \n",
      " if you see what you put me through \n",
      " gotta make me follow through \n",
      " it was late in the basement \n",
      " kills me with an open door \n",
      " uh huh \n",
      " and look at my tree i see is angels demons \n",
      " soft lights a bitch sounds \n",
      " from this connectivity \n",
      " you know i might just roll out to the pre roll \n",
      " now let me take these bitches off \n",
      " energy carried on and on \n",
      " (momma can you carry me ) \n",
      " (momma can you carry me ) \n",
      " psychologist: can you carry me ) \n",
      " it must be what you put me through \n",
      " \n",
      " [verse 2: schoolboy q] \n",
      " smiles around the clock \n",
      " dance around the town \n",
      " patience thinner than her pantyhose \n",
      " get over here and empty your pockets \n",
      " i want the right one \n",
      " car keys and the free lunch \n",
      " living under my greatness \n",
      " but you and me in that light \n",
      " its yours babe \n",
      " but what dont kill me is motivation \n",
      " my uncles had to wake up just to kiss you on to that \n",
      " so lets celebrate while we still can \n",
      " \n",
      " [chorus] \n",
      " open your heart x spots the mark baby \n",
      " long strokes to the free lunch \n",
      " living room watching old reruns \n",
      " \n",
      " [outro] \n",
      " it must be what you feel\" \n",
      " she mvp with the shotty \n",
      " but im feelin that ya might be (high) \n",
      " every word i speak got you floatin off your seat \n",
      " and look at the cash bubblin (okay you bubblin) \n",
      " look at me dog she just like her \n",
      " come jump in the way \n",
      " well if no ones in the hand (go) \n",
      " one for the next show \n",
      " but the bank statements \n",
      " spent the summer in the rave with the bad door \n",
      " cant see her cause its pitch black \n",
      " gucci pants on \n",
      " you wanted an encore more tunes \n",
      " \n",
      " [skit] \n",
      " \n",
      " [pre chorus] \n",
      " they say \n",
      " but what dont kill me is motivation \n",
      " my troubled head when youre ready \n",
      " if i didnt think this day could happen \n",
      " im lifting you off the ground (off ground) \n",
      " im lifting you off (up down) \n",
      " its cool if i get too high now sugar come on you can ride on it \n",
      " oh lord \n",
      " (momma can you carry me ) \n",
      " yeah all of that tree \n",
      " and im making do \n",
      " \n",
      " [verse 3] \n",
      " captivated the fruits of my cares \n",
      " then she rolled me a sack lunch \n",
      " \n",
      " [verse 1] \n",
      " im swimming in milk n honey \n",
      " swimming in milk n honey \n",
      " swi swimming in milk n honey \n",
      " swimming in milk n honey \n",
      " dick in this bitchs money \n",
      " im swimming in milk n honey \n",
      " im lifting it up and sit down! \n",
      " you my ju ju be \n",
      " i put you on it \n",
      " you may never ever come down \n",
      " let me ask you this question) \n",
      " why you pickin on me \n",
      " six years old i tried my first pair of jordans on \n",
      " you know it \n",
      " oh you high baby \n",
      " separation between truth and the ones who never gave a fuck \n",
      " she had this asian swagger ‘bout her so i call plays remove labels \n",
      " and the world stage \n",
      " a blast from your heart \n",
      " whats behind them tig ol bitties \n",
      " \n",
      " [chorus: anderson .paak] \n",
      " only one more night in los angeles \n",
      " i got it figured out now \n",
      " set it all away \n",
      " i dont need me in that light \n",
      " muthafuckas wanna tell me take it light \n",
      " its all the haters its official \n",
      " californication ever since a baby \n",
      " okay you bubblin \n",
      " look at my tree i see it to the last face \n",
      " theres no love \n",
      " uh huh \n",
      " and im the one to make it right \n",
      " i can find a balance between it thats where i couldnt see the point yeah \n",
      " yeah we must have been together \n",
      " i got it figured out now \n",
      " here i stay time to be lite weight \n",
      " \n",
      " [verse 3: the game] \n",
      " she dont give a fuck \n",
      " she said \"bend me over that sink\" \n",
      " i dont know this bitch but i love city i love city i love these women \n",
      " said you hate the club but i dont ever stress me \n",
      " six years old i tried my best to leave \n",
      " no you dont jump back in the waters \n",
      " the combination of all my favourite \n",
      " i learned my lessons from the ancient roots \n",
      " i am missing you to crossfade \n",
      " coming closer to midnight \n",
      " and dont you give to me \n",
      " we walk in the air\n"
     ]
    }
   ],
   "source": [
    "print(generate_new_lyrics(chain))"
   ]
  },
  {
   "cell_type": "code",
   "execution_count": null,
   "metadata": {},
   "outputs": [],
   "source": []
  }
 ],
 "metadata": {
  "kernelspec": {
   "display_name": "Python 3",
   "language": "python",
   "name": "python3"
  },
  "language_info": {
   "codemirror_mode": {
    "name": "ipython",
    "version": 3
   },
   "file_extension": ".py",
   "mimetype": "text/x-python",
   "name": "python",
   "nbconvert_exporter": "python",
   "pygments_lexer": "ipython3",
   "version": "3.7.1"
  }
 },
 "nbformat": 4,
 "nbformat_minor": 2
}
