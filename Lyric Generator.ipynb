{
 "cells": [
  {
   "cell_type": "markdown",
   "metadata": {},
   "source": [
    "# Song Lyric Generator"
   ]
  },
  {
   "cell_type": "markdown",
   "metadata": {},
   "source": [
    "**Margot Murvihill**"
   ]
  },
  {
   "cell_type": "code",
   "execution_count": 1,
   "metadata": {},
   "outputs": [],
   "source": [
    "import requests\n",
    "import time\n",
    "import pickle\n",
    "import random\n",
    "from bs4 import BeautifulSoup"
   ]
  },
  {
   "cell_type": "markdown",
   "metadata": {},
   "source": [
    "The website below has links to Anderson Paak's songs. This cell scrapes the links to each song from his main page and puts them into a list called links."
   ]
  },
  {
   "cell_type": "code",
   "execution_count": 2,
   "metadata": {},
   "outputs": [],
   "source": [
    "links = []\n",
    "#Change URL to get lyrics from any artist\n",
    "resp = requests.get(\"http://www.songlyrics.com/anderson-paak-lyrics/\")\n",
    "soup = BeautifulSoup(resp.content, \"html.parser\")\n",
    "table = soup.find(\"table\", {\"class\" : \"tracklist\"})\n",
    "for item in table.find_all(\"tr\"):\n",
    "    links.append(item.find(\"a\")[\"href\"])\n",
    "    "
   ]
  },
  {
   "cell_type": "markdown",
   "metadata": {},
   "source": [
    "Going through each link and get the lyrics for each song and add them to a list called lyrics."
   ]
  },
  {
   "cell_type": "code",
   "execution_count": 3,
   "metadata": {},
   "outputs": [],
   "source": [
    "lyrics = []\n",
    "\n",
    "import time\n",
    "\n",
    "for link in links:\n",
    "    resp = requests.get(link)\n",
    "    soup = BeautifulSoup(resp.content, \"html.parser\")\n",
    "    lyrics.append(soup.find(\"p\", {\"id\" : \"songLyricsDiv\"}).text)\n",
    "    #Adding a time delay between requests\n",
    "    time.sleep(0.5)"
   ]
  },
  {
   "cell_type": "code",
   "execution_count": 4,
   "metadata": {},
   "outputs": [],
   "source": [
    "# Cleaning\n",
    "for i in range(len(lyrics)):\n",
    "    song = lyrics[i]\n",
    "    song = song.lower()\n",
    "    song = song.replace(\"\\n\\n\", \"\\n\")\n",
    "    song = song.replace(\"\\n\", \" <N> \")\n",
    "    song = song.replace(\"?\", \" \")\n",
    "    song = song.replace(\",\", \"\")\n",
    "    song = song.replace(\"-\", \" \")\n",
    "    song = song.replace(\"'\", \"\")\n",
    "    song = song.replace(\"(\", \"\")\n",
    "    song = song.replace(\")\", \"\")\n",
    "    song = song.replace('\"', \"\")\n",
    "    song = \"<START> \" + song + \" <END>\"\n",
    "    lyrics[i] = song\n",
    "\n",
    "for i in range(len(lyrics)):\n",
    "    song = lyrics[i]\n",
    "    song = lyrics[i].split()\n",
    "    lyrics[i] = song   "
   ]
  },
  {
   "cell_type": "code",
   "execution_count": 5,
   "metadata": {},
   "outputs": [],
   "source": [
    "#Pickle holds our data\n",
    "pickle.dump(lyrics, open(\"lyrics.pkl\", \"wb\"))"
   ]
  },
  {
   "cell_type": "markdown",
   "metadata": {},
   "source": [
    "Now we will create a list of every word in Anderson Paak's songs, and for each word we will have another list of all the words that followed that word in his song. "
   ]
  },
  {
   "cell_type": "code",
   "execution_count": 6,
   "metadata": {},
   "outputs": [],
   "source": [
    "def train_markov_chain(lyrics):\n",
    "    \"\"\"\n",
    "    Args:\n",
    "      - lyrics: a list of strings, where each string represents\n",
    "                the lyrics of one song by an artist.\n",
    "    \n",
    "    Returns:\n",
    "      A dict that maps a single word (\"unigram\") to a list of\n",
    "      words that follow that word, representing the Markov\n",
    "      chain trained on the lyrics.\n",
    "    \"\"\"\n",
    "    chain = {\"<START>\": []}\n",
    "    for lyric in lyrics:\n",
    "        for i in range(len(lyric)):\n",
    "            word = lyric[i]\n",
    "            if chain.get(word)== None:\n",
    "                if (i+1) < len(lyric):\n",
    "                    chain[word] = [lyric[i+1]]\n",
    "            else:\n",
    "                if (i+1) < len(lyric):\n",
    "                    chain[word].append(lyric[i+1])\n",
    "        \n",
    "        \n",
    "    return chain"
   ]
  },
  {
   "cell_type": "code",
   "execution_count": 7,
   "metadata": {},
   "outputs": [
    {
     "name": "stdout",
     "output_type": "stream",
     "text": [
      "['we', 'my', 'if', 'im', 'we', 'she', 'ugh', 'all', 'i', 'dogtown', 'you', 'my', 'why', 'you', 'we', 'we', 'we', 'we', 'we', 'we', 'na', 'look', 'we', 'i', 'i', 'venice', 'produced', 'feat.', 'feat.', 'produced', 'feat.', 'feat.', '[verse', 'feat.', 'produced', 'produced', 'produced', 'produced', 'produced', 'na', 'i', 'such', 'my', 'my', 'you', 'feat.', 'feat.', '[instrumental:]', 'feat.', 'feat.']\n",
      "['until', 'strawberry', 'i', 'how', 'forever', 'if', 'fruit', 'say', 'spent', 'threw', 'with', 'im', 'went', 'oh', 'yeah', 'i', 'and', 'nothing', 'but', 'see']\n"
     ]
    }
   ],
   "source": [
    "# Load the pickled lyrics object.\n",
    "lyrics = pickle.load(open(\"lyrics.pkl\", \"rb\"))\n",
    "\n",
    "# Creating Markov Chain\n",
    "chain = train_markov_chain(lyrics)\n",
    "\n",
    "# Words that tend to start a song (i.e., what words follow the <START> tag)\n",
    "print(chain[\"<START>\"])\n",
    "\n",
    "# Words that tend to begin a line (i.e., what words follow the line break tag)\n",
    "print(chain[\"<N>\"][:20])"
   ]
  },
  {
   "cell_type": "markdown",
   "metadata": {},
   "source": [
    "Using the Markov chain we made above, we will essentially create a path through the song. We will randomly select a word that typically starts the song, then randomly select a word that follows that word, and randomly select a word that follows that word, and so on until we reach the end."
   ]
  },
  {
   "cell_type": "code",
   "execution_count": 8,
   "metadata": {},
   "outputs": [],
   "source": [
    "def generate_new_lyrics(chain):\n",
    "    \"\"\"\n",
    "    Args:\n",
    "      - chain: a dict representing the Markov chain,\n",
    "               such as one generated by generate_new_lyrics()\n",
    "    \n",
    "    Returns:\n",
    "      A string representing the randomly generated song.\n",
    "    \"\"\"\n",
    "    \n",
    "    # a list for storing the generated words\n",
    "    words = []\n",
    "    # generate the first word\n",
    "    word = random.choice(chain[\"<START>\"])\n",
    "    words.append(word)\n",
    "    while word != \"<END>\":\n",
    "        word = random.choice(chain[word])\n",
    "        words.append(word)\n",
    "    \n",
    "    \n",
    "    # join the words together into a string with line breaks\n",
    "    lyrics = \" \".join(words[:-1])\n",
    "    return \"\\n\".join(lyrics.split(\"<N>\"))"
   ]
  },
  {
   "cell_type": "code",
   "execution_count": 9,
   "metadata": {},
   "outputs": [
    {
     "name": "stdout",
     "output_type": "stream",
     "text": [
      "produced by vicky farewell & anderson .paak \n",
      " send it \n",
      " strawberry season my love you know i damn sure love to the dumbos \n",
      " but not get older get the tuggin \n",
      " alone with no ones in it all up in garages \n",
      " \n",
      " so they said my life \n",
      " you only fuckin tonight lets celebrate while but everything looks perfect timing \n",
      " \n",
      " but im bout what i bang her brain is good time my license suspended \n",
      " my little dreamers \n",
      " no reason to bed come on to do \n",
      " that you can you carry me help you drank up kanat \n",
      " \n",
      " couldnt be debunked \n",
      " \n",
      " just enough for two in the same ground \n",
      " keep dreaming \n",
      " momma can you carry you find me \n",
      " somewhere underneath the same things \n",
      " you put you gotta make \n",
      " energy carried on me help you living space \n",
      " dead wrong shit ho to frame you carry me \n",
      " \n",
      " so i damn that whip that\n"
     ]
    }
   ],
   "source": [
    "#Our generated Anderson Paak song\n",
    "print(generate_new_lyrics(chain))"
   ]
  },
  {
   "cell_type": "markdown",
   "metadata": {},
   "source": [
    "We will now train another Markov chain using bigrams. Essentially the same logic, except we are finding the words that follow every pair of words instead of a single word."
   ]
  },
  {
   "cell_type": "code",
   "execution_count": 10,
   "metadata": {},
   "outputs": [],
   "source": [
    "for song in lyrics:\n",
    "    song.insert(0, None)\n",
    "    song.append(None)"
   ]
  },
  {
   "cell_type": "code",
   "execution_count": 11,
   "metadata": {},
   "outputs": [],
   "source": [
    "def train_markov_chain(lyrics):\n",
    "    \"\"\"\n",
    "    Args:\n",
    "      - lyrics: a list of strings, where each string represents\n",
    "                the lyrics of one song by an artist.\n",
    "    \n",
    "    Returns:\n",
    "      A dict that maps a tuple of 2 words (\"bigram\") to a list of\n",
    "      words that follow that bigram, representing the Markov\n",
    "      chain trained on the lyrics.\n",
    "    \"\"\"\n",
    "    chain = {}\n",
    "    for lyric in lyrics:\n",
    "        for i in range(len(lyric)):\n",
    "            if (i+2) < len(lyric):\n",
    "                word = (lyric[i], lyric[i+1])\n",
    "                if chain.get(word) == None:\n",
    "                    chain[word] = [lyric[i+2]]\n",
    "                else:\n",
    "                    chain[word].append(lyric[i+2])\n",
    "        \n",
    "\n",
    "    return chain"
   ]
  },
  {
   "cell_type": "code",
   "execution_count": 12,
   "metadata": {},
   "outputs": [
    {
     "name": "stdout",
     "output_type": "stream",
     "text": [
      "['we', 'my', 'if', 'im', 'we', 'she', 'ugh', 'all', 'i', 'dogtown', 'you', 'my', 'why', 'you', 'we', 'we', 'we', 'we', 'we', 'we', 'na', 'look', 'we', 'i', 'i', 'venice', 'produced', 'feat.', 'feat.', 'produced', 'feat.', 'feat.', '[verse', 'feat.', 'produced', 'produced', 'produced', 'produced', 'produced', 'na', 'i', 'such', 'my', 'my', 'you', 'feat.', 'feat.', '[instrumental:]', 'feat.', 'feat.']\n"
     ]
    }
   ],
   "source": [
    "# Creating Markov Chain with bigrams\n",
    "chain = train_markov_chain(lyrics)\n",
    "\n",
    "# Words that tend to start a song (i.e., what words follow the <START> tag)\n",
    "print(chain[(None, \"<START>\")])"
   ]
  },
  {
   "cell_type": "code",
   "execution_count": 13,
   "metadata": {},
   "outputs": [],
   "source": [
    "def generate_new_lyrics(chain):\n",
    "    \"\"\"\n",
    "    Args:\n",
    "      - chain: a dict representing the Markov chain,\n",
    "               such as one generated by generate_new_lyrics()\n",
    "    \n",
    "    Returns:\n",
    "      A string representing the randomly generated song.\n",
    "    \"\"\"\n",
    "    \n",
    "    # a list for storing the generated words\n",
    "    words = []\n",
    "    # generate the first word\n",
    "    tuple = (None, \"<START>\")\n",
    "    word = random.choice(chain[tuple])\n",
    "    words.append(word)\n",
    "    while tuple[1] != \"<END>\":\n",
    "        tuple = (tuple[1], random.choice(chain[tuple])) \n",
    "        words.append(tuple[1])\n",
    "    \n",
    "    \n",
    "    # join the words together into a string with line breaks\n",
    "    lyrics = \" \".join(words[:-1])\n",
    "    return \"\\n\".join(lyrics.split(\"<N>\"))"
   ]
  },
  {
   "cell_type": "markdown",
   "metadata": {},
   "source": [
    "Generated Anderson Paak song with bigrams. Do you think it's better?"
   ]
  },
  {
   "cell_type": "code",
   "execution_count": 15,
   "metadata": {},
   "outputs": [
    {
     "name": "stdout",
     "output_type": "stream",
     "text": [
      "produced produced by madlib \n",
      " written by pomo & anderson .paak \n",
      " \n",
      " [chorus 1: anderson .paak \n",
      " \n",
      " [mike dora] \n",
      " i dont ever stress me \n",
      " yeah what can we do \n",
      " \n",
      " [hook: anderson .paak] \n",
      " dont turn a frown make an ass out yourself baby \n",
      " dont stop now keep dreaming \n",
      " dont turn a frown make an ass out yourself baby \n",
      " okay you bubblin \n",
      " look no further riots mmm \n",
      " said i hate the club but i dont think about love for instance \n",
      " i want the best of life \n",
      " \n",
      " [hook 1: anderson .paak] \n",
      " baby theres room in here \n",
      " yeah \n",
      " all up in the bag quit all that i was the only thing you ever really loved \n",
      " was right there right there\n"
     ]
    }
   ],
   "source": [
    "print(generate_new_lyrics(chain))"
   ]
  },
  {
   "cell_type": "code",
   "execution_count": null,
   "metadata": {},
   "outputs": [],
   "source": []
  }
 ],
 "metadata": {
  "kernelspec": {
   "display_name": "Python 3",
   "language": "python",
   "name": "python3"
  },
  "language_info": {
   "codemirror_mode": {
    "name": "ipython",
    "version": 3
   },
   "file_extension": ".py",
   "mimetype": "text/x-python",
   "name": "python",
   "nbconvert_exporter": "python",
   "pygments_lexer": "ipython3",
   "version": "3.7.1"
  }
 },
 "nbformat": 4,
 "nbformat_minor": 2
}
