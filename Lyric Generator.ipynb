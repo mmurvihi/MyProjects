{
 "cells": [
  {
   "cell_type": "markdown",
   "metadata": {},
   "source": [
    "# Song Lyric Generator"
   ]
  },
  {
   "cell_type": "code",
   "execution_count": 1,
   "metadata": {},
   "outputs": [],
   "source": [
    "import requests\n",
    "import time\n",
    "from bs4 import BeautifulSoup"
   ]
  },
  {
   "cell_type": "code",
   "execution_count": 2,
   "metadata": {},
   "outputs": [],
   "source": [
    "#The website below has links to The Meter's songs. This cell scrapes the links to each song from The Meter's main\n",
    "#page and puts them into a list called links.\n",
    "links = []\n",
    "resp = requests.get(\"http://www.songlyrics.com/the-meters-lyrics/\")\n",
    "soup = BeautifulSoup(resp.content, \"html.parser\")\n",
    "table = soup.find(\"table\", {\"class\" : \"tracklist\"})\n",
    "for item in table.find_all(\"tr\"):\n",
    "    links.append(item.find(\"a\")[\"href\"])\n",
    "    "
   ]
  },
  {
   "cell_type": "code",
   "execution_count": 3,
   "metadata": {},
   "outputs": [],
   "source": [
    "#Going through each link and get the lyrics for each song and add them to a list called\n",
    "#lyrics. \n",
    "\n",
    "lyrics = []\n",
    "\n",
    "import time\n",
    "\n",
    "for link in links:\n",
    "    resp = requests.get(link)\n",
    "    soup = BeautifulSoup(resp.content, \"html.parser\")\n",
    "    lyrics.append(soup.find(\"p\", {\"id\" : \"songLyricsDiv\"}).text)\n",
    "    time.sleep(0.5)"
   ]
  },
  {
   "cell_type": "code",
   "execution_count": 5,
   "metadata": {},
   "outputs": [],
   "source": [
    "# Cleaning\n",
    "for i in range(len(lyrics)):\n",
    "    song = lyrics[i]\n",
    "    song = song.lower()\n",
    "    song = song.replace(\"\\n\\n\", \"\\n\")\n",
    "    song = song.replace(\"\\n\", \" <N> \")\n",
    "    song = song.replace(\"?\", \" \")\n",
    "    song = song.replace(\",\", \"\")\n",
    "    song = song.replace(\"-\", \" \")\n",
    "    song = song.replace(\"'\", \"\")\n",
    "    song = \"<START> \" + song + \" <END>\"\n",
    "    lyrics[i] = song\n",
    "\n",
    "for i in range(len(lyrics)):\n",
    "    song = lyrics[i]\n",
    "    song = lyrics[i].split()\n",
    "    lyrics[i] = song   "
   ]
  },
  {
   "cell_type": "code",
   "execution_count": 6,
   "metadata": {},
   "outputs": [],
   "source": [
    "#Pickle holds our data\n",
    "import pickle\n",
    "pickle.dump(lyrics, open(\"lyrics.pkl\", \"wb\"))"
   ]
  },
  {
   "cell_type": "code",
   "execution_count": 7,
   "metadata": {},
   "outputs": [],
   "source": [
    "#Now we will create a list of every word in The Meter's songs, and for each word we will have another list of all the words\n",
    "#that followed that word in his song. \n",
    "def train_markov_chain(lyrics):\n",
    "    \"\"\"\n",
    "    Args:\n",
    "      - lyrics: a list of strings, where each string represents\n",
    "                the lyrics of one song by an artist.\n",
    "    \n",
    "    Returns:\n",
    "      A dict that maps a single word (\"unigram\") to a list of\n",
    "      words that follow that word, representing the Markov\n",
    "      chain trained on the lyrics.\n",
    "    \"\"\"\n",
    "    chain = {\"<START>\": []}\n",
    "    for lyric in lyrics:\n",
    "        for i in range(len(lyric)):\n",
    "            word = lyric[i]\n",
    "            if chain.get(word)== None:\n",
    "                if (i+1) < len(lyric):\n",
    "                    chain[word] = [lyric[i+1]]\n",
    "            else:\n",
    "                if (i+1) < len(lyric):\n",
    "                    chain[word].append(lyric[i+1])\n",
    "        \n",
    "        \n",
    "    return chain"
   ]
  },
  {
   "cell_type": "code",
   "execution_count": 8,
   "metadata": {},
   "outputs": [
    {
     "name": "stdout",
     "output_type": "stream",
     "text": [
      "['we', 'gettin', 'little', 'loving', 'im', 'skin', 'we', 'wouldf', '12:', 'fire', 'bacon', 'powers', 'listen', 'hang', 'got', 'middle', 'es', 'es', '12:', 'wouldf', 'wouldf', 'ah', 'fire', 'powers', 'well', 'clap', 'how', 'the', 'funkify', 'be', 'here', 'little', 'fire', '12:', 'es', 'got', 'im', 'i', 'little', 'powers', 'wouldf', 'i', 'me', 'little', 'little', 'ive', 'i', 'es', 'ah', 'just', 'streets', 'clap', 'if', 'ride', 'streets', 'badlees', 'everclear', 'badlees', 'cause', 'just']\n",
      "['gettin', 'funky', 'is', 'if', 'keep', 'keep', 'yeah', 'keep', 'keep', 'i', 'here', 'hooaaaaayeaah', 'gettin', 'gettin', 'funky', 'its', 'you', 'feel', 'good', 'gonna']\n"
     ]
    }
   ],
   "source": [
    "# Load the pickled lyrics object.\n",
    "import pickle\n",
    "lyrics = pickle.load(open(\"lyrics.pkl\", \"rb\"))\n",
    "\n",
    "# Call the function you wrote above.\n",
    "chain = train_markov_chain(lyrics)\n",
    "\n",
    "# What words tend to start a song (i.e., what words follow the <START> tag?)\n",
    "print(chain[\"<START>\"])\n",
    "\n",
    "# What words tend to begin a line (i.e., what words follow the line break tag?)\n",
    "print(chain[\"<N>\"][:20])"
   ]
  },
  {
   "cell_type": "code",
   "execution_count": 9,
   "metadata": {},
   "outputs": [],
   "source": [
    "#Using the Markov chain we made above, we will essentially create a path through the song. We will randomly select\n",
    "#a word that typically starts the song, then randomly select a word that follows that word, and randomly select\n",
    "#a word that follows that word, and so on until we reach the end.\n",
    "import random\n",
    "\n",
    "def generate_new_lyrics(chain):\n",
    "    \"\"\"\n",
    "    Args:\n",
    "      - chain: a dict representing the Markov chain,\n",
    "               such as one generated by generate_new_lyrics()\n",
    "    \n",
    "    Returns:\n",
    "      A string representing the randomly generated song.\n",
    "    \"\"\"\n",
    "    \n",
    "    # a list for storing the generated words\n",
    "    words = []\n",
    "    # generate the first word\n",
    "    word = random.choice(chain[\"<START>\"])\n",
    "    words.append(word)\n",
    "    while word != \"<END>\":\n",
    "        word = random.choice(chain[word])\n",
    "        words.append(word)\n",
    "    \n",
    "    \n",
    "    # join the words together into a string with line breaks\n",
    "    lyrics = \" \".join(words[:-1])\n",
    "    return \"\\n\".join(lyrics.split(\"<N>\"))"
   ]
  },
  {
   "cell_type": "code",
   "execution_count": 10,
   "metadata": {},
   "outputs": [
    {
     "name": "stdout",
     "output_type": "stream",
     "text": [
      "ride \n",
      " the bayou \n",
      " just kissed my home start an day all the rich are free \n",
      " (ad lib with a bottle of steel \n",
      " surely would come so i wennon up some good music \n",
      " people get it on strut just set that theres no sense. \n",
      " makes no one spinal cracker \n",
      " the middle of gin soaked bar and its a 5th of gin \n",
      " the cab to dance gossa do your shoes \n",
      " countin you gonna light the bayou \n",
      " feel good music watch me \n",
      " just kissed by my sweetness my plans \n",
      " huh \n",
      " just got to try dragging my share is for trouble \n",
      " that shes looking cause i saw you gettin down your heart is such a bottle of the road is gonna get along yeah \n",
      " cause i was cool wine \n",
      " the curb \n",
      " hey hey pocky a north bound train \n",
      " (what the river cant you feel the road \n",
      " the way \n",
      " the honky tonk women \n",
      " lets get on fire \n",
      " with this town (lynott) \n",
      " well this in college \n",
      " when i just kissed my favorite song i just keep on getting richer \n",
      " bomp!: buh deeba doomp beemp bomp: bomp! bomp!: buh deeba doomp beemp bomp: hey \n",
      " hey \n",
      " deep in the road \n",
      " what i feel good for a right to buy yourself getting warmer it to do what the telephone called your pony \n",
      " its good ha \n",
      " do a follow up to breath \n",
      " feel like the people clap your hands now; people say \n",
      " with a prize to duh tiguhs ast: \n",
      " the way youve got monkey \n",
      " and low. \n",
      " take some little softer; people say people say people say people come with me close \n",
      " that pain \n",
      " oh light the people say people clap now. \n",
      " hey pocky a way \n",
      " just kissed my sweetness my lover there is so good for your company \n",
      " cant boogie roll \n",
      " sweet desire \n",
      " i can do to the road \n",
      " makes no other \n",
      " fire \n",
      " food is such a little louder; people clap your hands. \n",
      " i know you doin their thing (real thing) \n",
      " chief \n",
      " gettin funky \n",
      " and day all my sweetness my mind \n",
      " and my baby thats what i can \n",
      " such a t \n",
      " people say) \n",
      " nobody knows where i learned to live \n",
      " you \n",
      " that chick got swamp water runnin through the right here again \n",
      " a heart comes \n",
      " they have the road lyrics \n",
      " got to breath \n",
      " im standing on the lottery \n",
      " hey hey hey hey hey pocky a slow boogie now over at home \n",
      " and your thing it is such a lot of my mind \n",
      " people clap your hands. \n",
      " when i believe everything i know would leave i just got no other way \n",
      " past corrugated tin shacks full up some kind of steel \n",
      " hey pocky a way \n",
      " just keep you wait on your mom and tell \n",
      " have i need time to drink so i wennon down to be the mississippi river \n",
      " (yeah!) its good for your sweet love \n",
      " i pole my lover there is near \n",
      " fire on now \n",
      " and as a bad \n",
      " from the drug store closed at dinos bar and a little bitty boy \n",
      " im over the way\n"
     ]
    }
   ],
   "source": [
    "#Our generated The Meters song\n",
    "print(generate_new_lyrics(chain))"
   ]
  },
  {
   "cell_type": "code",
   "execution_count": 11,
   "metadata": {},
   "outputs": [],
   "source": [
    "#We will now train another Markov chain using bigrams. Essentially the same logic, except we are finding \n",
    "#the words that follow every pair of words instead of a single word. \n",
    "for song in lyrics:\n",
    "    song.insert(0, None)\n",
    "    song.append(None)"
   ]
  },
  {
   "cell_type": "code",
   "execution_count": 12,
   "metadata": {},
   "outputs": [],
   "source": [
    "def train_markov_chain(lyrics):\n",
    "    \"\"\"\n",
    "    Args:\n",
    "      - lyrics: a list of strings, where each string represents\n",
    "                the lyrics of one song by an artist.\n",
    "    \n",
    "    Returns:\n",
    "      A dict that maps a tuple of 2 words (\"bigram\") to a list of\n",
    "      words that follow that bigram, representing the Markov\n",
    "      chain trained on the lyrics.\n",
    "    \"\"\"\n",
    "    chain = {}\n",
    "    for lyric in lyrics:\n",
    "        for i in range(len(lyric)):\n",
    "            if (i+2) < len(lyric):\n",
    "                word = (lyric[i], lyric[i+1])\n",
    "                if chain.get(word) == None:\n",
    "                    chain[word] = [lyric[i+2]]\n",
    "                else:\n",
    "                    chain[word].append(lyric[i+2])\n",
    "        \n",
    "\n",
    "    return chain"
   ]
  },
  {
   "cell_type": "code",
   "execution_count": 13,
   "metadata": {},
   "outputs": [
    {
     "name": "stdout",
     "output_type": "stream",
     "text": [
      "['we', 'gettin', 'little', 'loving', 'im', 'skin', 'we', 'wouldf', '12:', 'fire', 'bacon', 'powers', 'listen', 'hang', 'got', 'middle', 'es', 'es', '12:', 'wouldf', 'wouldf', 'ah', 'fire', 'powers', 'well', 'clap', 'how', 'the', 'funkify', 'be', 'here', 'little', 'fire', '12:', 'es', 'got', 'im', 'i', 'little', 'powers', 'wouldf', 'i', 'me', 'little', 'little', 'ive', 'i', 'es', 'ah', 'just', 'streets', 'clap', 'if', 'ride', 'streets', 'badlees', 'everclear', 'badlees', 'cause', 'just']\n"
     ]
    }
   ],
   "source": [
    "# Call the function above.\n",
    "chain = train_markov_chain(lyrics)\n",
    "\n",
    "# What words tend to start a song (i.e., what words follow the <START> tag?)\n",
    "print(chain[(None, \"<START>\")])"
   ]
  },
  {
   "cell_type": "code",
   "execution_count": 14,
   "metadata": {},
   "outputs": [],
   "source": [
    "import random\n",
    "\n",
    "def generate_new_lyrics(chain):\n",
    "    \"\"\"\n",
    "    Args:\n",
    "      - chain: a dict representing the Markov chain,\n",
    "               such as one generated by generate_new_lyrics()\n",
    "    \n",
    "    Returns:\n",
    "      A string representing the randomly generated song.\n",
    "    \"\"\"\n",
    "    \n",
    "    # a list for storing the generated words\n",
    "    words = []\n",
    "    # generate the first word\n",
    "    tuple = (None, \"<START>\")\n",
    "    word = random.choice(chain[tuple])\n",
    "    words.append(word)\n",
    "    while tuple[1] != \"<END>\":\n",
    "        tuple = (tuple[1], random.choice(chain[tuple])) \n",
    "        words.append(tuple[1])\n",
    "    \n",
    "    \n",
    "    # join the words together into a string with line breaks\n",
    "    lyrics = \" \".join(words[:-1])\n",
    "    return \"\\n\".join(lyrics.split(\"<N>\"))"
   ]
  },
  {
   "cell_type": "code",
   "execution_count": 15,
   "metadata": {},
   "outputs": [
    {
     "name": "stdout",
     "output_type": "stream",
     "text": [
      "12: ah hey bra what kinda music you got mad; \n",
      " got to be \n",
      " right about now lord have mercy \n",
      " ugah! get down and low. \n",
      " a little softer; people get louder. \n",
      " we had a fight then you got \n",
      " funky music watch yourself here we go \n",
      " we had a fight then you got the word \n",
      " im a live wire and im gonna set this town on fire\n"
     ]
    }
   ],
   "source": [
    "#Generated The Meters song with bigrams. Do you think it's better?\n",
    "print(generate_new_lyrics(chain))"
   ]
  }
 ],
 "metadata": {
  "kernelspec": {
   "display_name": "Python 3",
   "language": "python",
   "name": "python3"
  },
  "language_info": {
   "codemirror_mode": {
    "name": "ipython",
    "version": 3
   },
   "file_extension": ".py",
   "mimetype": "text/x-python",
   "name": "python",
   "nbconvert_exporter": "python",
   "pygments_lexer": "ipython3",
   "version": "3.7.1"
  }
 },
 "nbformat": 4,
 "nbformat_minor": 2
}
